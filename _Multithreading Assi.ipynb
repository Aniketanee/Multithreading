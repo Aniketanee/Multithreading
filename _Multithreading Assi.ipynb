{
 "cells": [
  {
   "cell_type": "markdown",
   "id": "637b95f5-9575-40c6-908c-90a0598e6c31",
   "metadata": {},
   "source": [
    " Multithreading Assignment "
   ]
  },
  {
   "cell_type": "markdown",
   "id": "04126f17-e50a-4537-a47f-2aaaa5452a6c",
   "metadata": {},
   "source": [
    "Solution . 1"
   ]
  },
  {
   "cell_type": "markdown",
   "id": "230ab69a-2e83-4b63-9b2f-18c622ab72fa",
   "metadata": {},
   "source": [
    "Multithreading in Python refers to the concurrent execution of multiple threads within a single Python process. A thread is the smallest unit of execution in a program, and multithreading allows you to perform multiple tasks concurrently, making better use of multi-core processors and potentially improving the efficiency of your code for tasks that involve parallelizable operations.\n",
    "The threading module is used to handle threads.\n",
    "\n",
    "Use cases for multithreading in Python :\n",
    "1.Parallel Execution\n",
    "2.Responsive User Interfaces\n",
    "3.Concurrency\n",
    "4.Multithreaded Algorithms"
   ]
  },
  {
   "cell_type": "markdown",
   "id": "d701e5ee-7245-46a8-805d-7ae25d13a158",
   "metadata": {},
   "source": [
    "Solution . 2"
   ]
  },
  {
   "cell_type": "code",
   "execution_count": 6,
   "id": "24cfd47d-e966-4dea-b874-0f629dfe4647",
   "metadata": {},
   "outputs": [
    {
     "name": "stdout",
     "output_type": "stream",
     "text": [
      "Number of active threads: 8\n"
     ]
    }
   ],
   "source": [
    "#active_count()\n",
    "import threading\n",
    "import time\n",
    "\n",
    "def worker():\n",
    "    time.sleep(2)\n",
    "\n",
    "# Create and start multiple threads\n",
    "threads = []\n",
    "for _ in range(5):\n",
    "    t = threading.Thread(target=worker)\n",
    "    threads.append(t)\n",
    "    t.start()\n",
    "\n",
    "# Wait for all threads to finish\n",
    "for t in threads:\n",
    "    t.join()\n",
    "\n",
    "# Check the number of active threads\n",
    "num_active_threads = threading.active_count()\n",
    "print(f\"Number of active threads: {num_active_threads}\")\n"
   ]
  },
  {
   "cell_type": "code",
   "execution_count": 11,
   "id": "1756ef24-73a8-4f3d-bc42-1dd8c110595e",
   "metadata": {},
   "outputs": [
    {
     "name": "stdout",
     "output_type": "stream",
     "text": [
      "Current Thread: Thread-38 (my_function)\n"
     ]
    }
   ],
   "source": [
    "#current_thread\n",
    "import threading\n",
    "\n",
    "def my_function():\n",
    "    current_thread = threading.current_thread()\n",
    "    print(f\"Current Thread: {current_thread.name}\")\n",
    "\n",
    "thread = threading.Thread(target=my_function)\n",
    "thread.start()\n"
   ]
  },
  {
   "cell_type": "code",
   "execution_count": 15,
   "id": "9e57bff4-9172-45ca-bf91-1a55546ecc6d",
   "metadata": {},
   "outputs": [
    {
     "name": "stdout",
     "output_type": "stream",
     "text": [
      "Index 0: aniket\n",
      "Index 1: jay\n",
      "Index 2: abhigyan\n"
     ]
    }
   ],
   "source": [
    "#enumerate()\n",
    "friend = ['aniket', 'jay', 'abhigyan']\n",
    "\n",
    "for index, friend in enumerate(friend):\n",
    "    print(f\"Index {index}: {friend}\")\n"
   ]
  },
  {
   "cell_type": "markdown",
   "id": "8f7afe56-981a-4ea6-aafb-60ba34863cef",
   "metadata": {},
   "source": [
    "Solution . 3"
   ]
  },
  {
   "cell_type": "markdown",
   "id": "7c29ea83-57ef-423a-9513-e5e8812a17a8",
   "metadata": {},
   "source": [
    "#run()\n",
    "threading module, the run() method is a fundamental method that you can override when creating a custom thread class by subclassing threading.Thread. The run() method contains the code that will be executed when the thread is started. we should define the behavior of your thread within this method."
   ]
  },
  {
   "cell_type": "markdown",
   "id": "49bfad61-50e8-4a6b-8351-60205fd22892",
   "metadata": {},
   "source": [
    "#start()\n",
    "the start() method or function is not a standard or built-in function in most programming languages or libraries. The specific behavior and purpose of a start() function would depend on the context in which it is used and the programming language or framework being employed. "
   ]
  },
  {
   "cell_type": "markdown",
   "id": "0e24e24a-64fa-40b4-97f1-d01931456293",
   "metadata": {},
   "source": [
    "#join()\n",
    "the join() method or function is commonly used in the context of multithreading or multiprocessing to manage concurrent execution of threads or processes. The primary purpose of the join() method is to ensure that one thread or process waits for another to complete its execution before continuing."
   ]
  },
  {
   "cell_type": "markdown",
   "id": "3e37cc48-e82c-4a52-aac2-8a0361035b70",
   "metadata": {},
   "source": [
    "#isalive\n",
    "isAlive() method or function is commonly used in the context of multithreading or multiprocessing to check the status of a thread or process. The primary purpose of the isAlive() method is to determine whether a thread or process is currently active and executing its task."
   ]
  },
  {
   "cell_type": "markdown",
   "id": "00bacee7-2279-4bf7-b8b8-e09530e54a2d",
   "metadata": {},
   "source": [
    "Solution . 4"
   ]
  },
  {
   "cell_type": "code",
   "execution_count": 25,
   "id": "a39fb5e0-5aa7-4f60-aed1-728f7a9d6920",
   "metadata": {},
   "outputs": [
    {
     "name": "stdout",
     "output_type": "stream",
     "text": [
      "Square of 1: 1\n",
      "Square of 2: 4\n",
      "Square of 3: 9\n",
      "Square of 4: 16\n",
      "Square of 5: 25\n",
      "Cube of 1: 1\n",
      "Cube of 2: 8\n",
      "Cube of 3: 27\n",
      "Cube of 4: 64\n",
      "Cube of 5: 125\n",
      "Both threads have finished.\n"
     ]
    }
   ],
   "source": [
    "import threading\n",
    "def calculate_squares(numbers):\n",
    "    for num in numbers:\n",
    "        print(f\"Square of {num}: {num * num}\")\n",
    "\n",
    "def calculate_cubes(numbers):\n",
    "    for num in numbers:\n",
    "        print(f\"Cube of {num}: {num * num * num}\")\n",
    "numbers = [1, 2, 3, 4, 5]\n",
    "square_thread = threading.Thread(target=calculate_squares, args=(numbers,))\n",
    "cube_thread = threading.Thread(target=calculate_cubes, args=(numbers,))\n",
    "square_thread.start()\n",
    "cube_thread.start()\n",
    "square_thread.join()\n",
    "cube_thread.join()\n",
    "\n",
    "print(\"Both threads have finished.\")\n"
   ]
  },
  {
   "cell_type": "code",
   "execution_count": null,
   "id": "d21f19e4-7f18-4c43-89a3-fed84be8fbdc",
   "metadata": {},
   "outputs": [],
   "source": []
  }
 ],
 "metadata": {
  "kernelspec": {
   "display_name": "Python 3 (ipykernel)",
   "language": "python",
   "name": "python3"
  },
  "language_info": {
   "codemirror_mode": {
    "name": "ipython",
    "version": 3
   },
   "file_extension": ".py",
   "mimetype": "text/x-python",
   "name": "python",
   "nbconvert_exporter": "python",
   "pygments_lexer": "ipython3",
   "version": "3.10.8"
  }
 },
 "nbformat": 4,
 "nbformat_minor": 5
}
